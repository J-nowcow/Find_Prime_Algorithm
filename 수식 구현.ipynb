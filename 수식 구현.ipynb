{
 "cells": [
  {
   "cell_type": "code",
   "execution_count": 2,
   "metadata": {},
   "outputs": [],
   "source": [
    "import matplotlib.pyplot as plt\n",
    "import pandas as pd\n",
    "import timeit\n",
    "import seaborn as sns\n",
    "from tqdm import tqdm"
   ]
  },
  {
   "cell_type": "code",
   "execution_count": 3,
   "metadata": {},
   "outputs": [],
   "source": [
    "%matplotlib inline"
   ]
  },
  {
   "cell_type": "markdown",
   "metadata": {},
   "source": [
    "### method A (Using Eratosthenes)"
   ]
  },
  {
   "cell_type": "code",
   "execution_count": 4,
   "metadata": {},
   "outputs": [],
   "source": [
    "def method_A(N):\n",
    "    a = set(range(2,N+1))\n",
    "    n = N**0.5\n",
    "    c = 0\n",
    "    while True:\n",
    "        i = list(a)[c]\n",
    "        if i > n:\n",
    "            break\n",
    "        if i in a:\n",
    "            a -= set(range(i*2,N+1,i))\n",
    "            c += 1\n",
    "    return len(a)"
   ]
  },
  {
   "cell_type": "markdown",
   "metadata": {},
   "source": [
    "### method B (paper's new method)"
   ]
  },
  {
   "cell_type": "code",
   "execution_count": 5,
   "metadata": {},
   "outputs": [],
   "source": [
    "def method_B(N):\n",
    "    A = set()\n",
    "    B = set(range(3,N+1,2))\n",
    "    for i in range(3,N+1,2):\n",
    "        t = i\n",
    "        while i * t <= N:\n",
    "            A.add(i*t)\n",
    "            t += 2\n",
    "    a = (B - A)\n",
    "    a.add(2)\n",
    "    return len(a)"
   ]
  },
  {
   "cell_type": "markdown",
   "metadata": {},
   "source": [
    "### method C (our advanced method)"
   ]
  },
  {
   "cell_type": "code",
   "execution_count": 6,
   "metadata": {},
   "outputs": [],
   "source": [
    "def method_C(N):\n",
    "    A = set()\n",
    "    B = set(range(5,N+1,6)) | set(range(7,N+1,6))\n",
    "    for i in range(5,N+1,6):\n",
    "        t = i\n",
    "        while i * t <= N:\n",
    "            A.add(i*t)\n",
    "            t += 6\n",
    "        t = i + 2\n",
    "        while i * t <= N:\n",
    "            A.add(i*t)\n",
    "            t += 6\n",
    "    for i in range(7,N+1,6):\n",
    "        t = i - 2\n",
    "        while i * t <= N:\n",
    "            A.add(i*t)\n",
    "            t += 6\n",
    "        t = i\n",
    "        while i * t <= N:\n",
    "            A.add(i*t)\n",
    "            t += 6\n",
    "    a = (B - A)\n",
    "    a.update((2,3))\n",
    "    return len(a)"
   ]
  },
  {
   "cell_type": "code",
   "execution_count": 7,
   "metadata": {},
   "outputs": [],
   "source": [
    "lst = [200000 * i for i in range(1,21)]\n",
    "t1 = []\n",
    "t2 = []\n",
    "t3 = []"
   ]
  },
  {
   "cell_type": "code",
   "execution_count": 8,
   "metadata": {},
   "outputs": [
    {
     "name": "stderr",
     "output_type": "stream",
     "text": [
      "100%|██████████████████████████████████████████████████████████████████████████████████| 20/20 [03:40<00:00, 11.03s/it]\n"
     ]
    }
   ],
   "source": [
    "for N in tqdm(lst):\n",
    "    t1.append(sum(timeit.repeat(stmt = \"method_A(N)\", setup = 'from __main__ import method_A; N =' + str(N), number = 1, repeat = 10))/10)\n",
    "    t2.append(sum(timeit.repeat(stmt = \"method_B(N)\", setup = 'from __main__ import method_B; N =' + str(N), number = 1, repeat = 10))/10)\n",
    "    t3.append(sum(timeit.repeat(stmt = \"method_C(N)\", setup = 'from __main__ import method_C; N =' + str(N), number = 1, repeat = 10))/10)\n",
    "    "
   ]
  },
  {
   "cell_type": "code",
   "execution_count": 9,
   "metadata": {},
   "outputs": [],
   "source": [
    "df = pd.DataFrame(columns = [\"N\",\"methodA\", \"methodB\", \"methodC\"])"
   ]
  },
  {
   "cell_type": "code",
   "execution_count": 10,
   "metadata": {},
   "outputs": [],
   "source": [
    "for i in range(20):\n",
    "    df.loc[i] = [lst[i], t1[i], t2[i], t3[i]]"
   ]
  },
  {
   "cell_type": "code",
   "execution_count": 12,
   "metadata": {},
   "outputs": [
    {
     "data": {
      "text/html": [
       "<div>\n",
       "<style scoped>\n",
       "    .dataframe tbody tr th:only-of-type {\n",
       "        vertical-align: middle;\n",
       "    }\n",
       "\n",
       "    .dataframe tbody tr th {\n",
       "        vertical-align: top;\n",
       "    }\n",
       "\n",
       "    .dataframe thead th {\n",
       "        text-align: right;\n",
       "    }\n",
       "</style>\n",
       "<table border=\"1\" class=\"dataframe\">\n",
       "  <thead>\n",
       "    <tr style=\"text-align: right;\">\n",
       "      <th></th>\n",
       "      <th>N</th>\n",
       "      <th>methodB</th>\n",
       "      <th>methodC</th>\n",
       "    </tr>\n",
       "  </thead>\n",
       "  <tbody>\n",
       "    <tr>\n",
       "      <td>0</td>\n",
       "      <td>200000.0</td>\n",
       "      <td>0.093274</td>\n",
       "      <td>0.053009</td>\n",
       "    </tr>\n",
       "    <tr>\n",
       "      <td>1</td>\n",
       "      <td>400000.0</td>\n",
       "      <td>0.231254</td>\n",
       "      <td>0.108027</td>\n",
       "    </tr>\n",
       "    <tr>\n",
       "      <td>2</td>\n",
       "      <td>600000.0</td>\n",
       "      <td>0.352237</td>\n",
       "      <td>0.179955</td>\n",
       "    </tr>\n",
       "    <tr>\n",
       "      <td>3</td>\n",
       "      <td>800000.0</td>\n",
       "      <td>0.605034</td>\n",
       "      <td>0.268536</td>\n",
       "    </tr>\n",
       "    <tr>\n",
       "      <td>4</td>\n",
       "      <td>1000000.0</td>\n",
       "      <td>0.635905</td>\n",
       "      <td>0.387634</td>\n",
       "    </tr>\n",
       "    <tr>\n",
       "      <td>5</td>\n",
       "      <td>1200000.0</td>\n",
       "      <td>0.760796</td>\n",
       "      <td>0.414940</td>\n",
       "    </tr>\n",
       "    <tr>\n",
       "      <td>6</td>\n",
       "      <td>1400000.0</td>\n",
       "      <td>0.916776</td>\n",
       "      <td>0.503571</td>\n",
       "    </tr>\n",
       "    <tr>\n",
       "      <td>7</td>\n",
       "      <td>1600000.0</td>\n",
       "      <td>1.198118</td>\n",
       "      <td>0.598749</td>\n",
       "    </tr>\n",
       "    <tr>\n",
       "      <td>8</td>\n",
       "      <td>1800000.0</td>\n",
       "      <td>1.330172</td>\n",
       "      <td>0.709671</td>\n",
       "    </tr>\n",
       "    <tr>\n",
       "      <td>9</td>\n",
       "      <td>2000000.0</td>\n",
       "      <td>1.408308</td>\n",
       "      <td>0.790070</td>\n",
       "    </tr>\n",
       "    <tr>\n",
       "      <td>10</td>\n",
       "      <td>2200000.0</td>\n",
       "      <td>1.550416</td>\n",
       "      <td>0.826634</td>\n",
       "    </tr>\n",
       "    <tr>\n",
       "      <td>11</td>\n",
       "      <td>2400000.0</td>\n",
       "      <td>1.779905</td>\n",
       "      <td>0.927596</td>\n",
       "    </tr>\n",
       "    <tr>\n",
       "      <td>12</td>\n",
       "      <td>2600000.0</td>\n",
       "      <td>1.792648</td>\n",
       "      <td>1.009613</td>\n",
       "    </tr>\n",
       "    <tr>\n",
       "      <td>13</td>\n",
       "      <td>2800000.0</td>\n",
       "      <td>1.955034</td>\n",
       "      <td>1.112122</td>\n",
       "    </tr>\n",
       "    <tr>\n",
       "      <td>14</td>\n",
       "      <td>3000000.0</td>\n",
       "      <td>2.208980</td>\n",
       "      <td>1.194557</td>\n",
       "    </tr>\n",
       "    <tr>\n",
       "      <td>15</td>\n",
       "      <td>3200000.0</td>\n",
       "      <td>2.526331</td>\n",
       "      <td>1.272015</td>\n",
       "    </tr>\n",
       "    <tr>\n",
       "      <td>16</td>\n",
       "      <td>3400000.0</td>\n",
       "      <td>2.511803</td>\n",
       "      <td>1.373196</td>\n",
       "    </tr>\n",
       "    <tr>\n",
       "      <td>17</td>\n",
       "      <td>3600000.0</td>\n",
       "      <td>2.683943</td>\n",
       "      <td>1.445903</td>\n",
       "    </tr>\n",
       "    <tr>\n",
       "      <td>18</td>\n",
       "      <td>3800000.0</td>\n",
       "      <td>2.822722</td>\n",
       "      <td>1.598872</td>\n",
       "    </tr>\n",
       "    <tr>\n",
       "      <td>19</td>\n",
       "      <td>4000000.0</td>\n",
       "      <td>3.516033</td>\n",
       "      <td>1.769347</td>\n",
       "    </tr>\n",
       "  </tbody>\n",
       "</table>\n",
       "</div>"
      ],
      "text/plain": [
       "            N   methodB   methodC\n",
       "0    200000.0  0.093274  0.053009\n",
       "1    400000.0  0.231254  0.108027\n",
       "2    600000.0  0.352237  0.179955\n",
       "3    800000.0  0.605034  0.268536\n",
       "4   1000000.0  0.635905  0.387634\n",
       "5   1200000.0  0.760796  0.414940\n",
       "6   1400000.0  0.916776  0.503571\n",
       "7   1600000.0  1.198118  0.598749\n",
       "8   1800000.0  1.330172  0.709671\n",
       "9   2000000.0  1.408308  0.790070\n",
       "10  2200000.0  1.550416  0.826634\n",
       "11  2400000.0  1.779905  0.927596\n",
       "12  2600000.0  1.792648  1.009613\n",
       "13  2800000.0  1.955034  1.112122\n",
       "14  3000000.0  2.208980  1.194557\n",
       "15  3200000.0  2.526331  1.272015\n",
       "16  3400000.0  2.511803  1.373196\n",
       "17  3600000.0  2.683943  1.445903\n",
       "18  3800000.0  2.822722  1.598872\n",
       "19  4000000.0  3.516033  1.769347"
      ]
     },
     "execution_count": 12,
     "metadata": {},
     "output_type": "execute_result"
    }
   ],
   "source": [
    "df[[\"N\",\"methodB\", \"methodC\"]]"
   ]
  },
  {
   "cell_type": "code",
   "execution_count": 20,
   "metadata": {
    "scrolled": true
   },
   "outputs": [],
   "source": [
    "x = df[\"N\"]\n",
    "y2 = df[\"methodB\"]\n",
    "y3 = df[\"methodC\"]"
   ]
  },
  {
   "cell_type": "code",
   "execution_count": 21,
   "metadata": {},
   "outputs": [
    {
     "data": {
      "text/plain": [
       "[1, 2, 3, 4, 5, 6, 7, 8, 9, 10, 11, 12, 13, 14, 15, 16, 17, 18, 19, 20]"
      ]
     },
     "execution_count": 21,
     "metadata": {},
     "output_type": "execute_result"
    }
   ],
   "source": [
    "list(range(1,21))"
   ]
  },
  {
   "cell_type": "code",
   "execution_count": 22,
   "metadata": {
    "scrolled": true
   },
   "outputs": [
    {
     "data": {
      "image/png": "[encoded data removed]",
      "text/plain": [
       "<Figure size 432x288 with 1 Axes>"
      ]
     },
     "metadata": {
      "needs_background": "light"
     },
     "output_type": "display_data"
    }
   ],
   "source": [
    "plt.ylim(0,5)\n",
    "plt.plot(x,y2)\n",
    "plt.plot(x,y3)\n",
    "plt.xticks([400000 * i for i in range(1,11)], labels = ['4','8','12','16','20','24','28','32','36','40'])\n",
    "plt.xlabel(\"N(x10^5)\")\n",
    "plt.ylabel(\"time\")\n",
    "plt.legend([\"Method of paper\", \"Our advanced method\"])\n",
    "plt.show()"
   ]
  },
  {
   "cell_type": "code",
   "execution_count": null,
   "metadata": {},
   "outputs": [],
   "source": []
  }
 ],
 "metadata": {
  "kernelspec": {
   "display_name": "Python 3",
   "language": "python",
   "name": "python3"
  },
  "language_info": {
   "codemirror_mode": {
    "name": "ipython",
    "version": 3
   },
   "file_extension": ".py",
   "mimetype": "text/x-python",
   "name": "python",
   "nbconvert_exporter": "python",
   "pygments_lexer": "ipython3",
   "version": "3.7.4"
  }
 },
 "nbformat": 4,
 "nbformat_minor": 2
}
