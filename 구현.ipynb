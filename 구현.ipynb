{
 "cells": [
  {
   "cell_type": "code",
   "execution_count": 12,
   "metadata": {},
   "outputs": [],
   "source": [
    "import time"
   ]
  },
  {
   "cell_type": "code",
   "execution_count": 46,
   "metadata": {},
   "outputs": [],
   "source": [
    "N = 10**5"
   ]
  },
  {
   "cell_type": "markdown",
   "metadata": {},
   "source": [
    "### 1. 애라토스테네스 체"
   ]
  },
  {
   "cell_type": "code",
   "execution_count": 47,
   "metadata": {},
   "outputs": [
    {
     "name": "stdout",
     "output_type": "stream",
     "text": [
      "9592 0.06544947624206543\n"
     ]
    }
   ],
   "source": [
    "start = time.time()\n",
    "a = set(range(2,N+1))\n",
    "for i in range(2,int(N**0.5)+1):\n",
    "    if i in a:\n",
    "        a -= set(range(i*2,N+1,i))\n",
    "\n",
    "print(len(a), time.time() - start)"
   ]
  },
  {
   "cell_type": "code",
   "execution_count": 48,
   "metadata": {},
   "outputs": [
    {
     "name": "stdout",
     "output_type": "stream",
     "text": [
      "9592 0.1460103988647461\n"
     ]
    }
   ],
   "source": [
    "start = time.time()\n",
    "a = set(range(2,N+1))\n",
    "n = N**0.5\n",
    "c = 0\n",
    "while True:\n",
    "    i = list(a)[c]\n",
    "    if i > n:\n",
    "        break\n",
    "    if i in a:\n",
    "        a -= set(range(i*2,N+1,i))\n",
    "        c += 1\n",
    "\n",
    "print(len(a), time.time() - start)"
   ]
  },
  {
   "cell_type": "code",
   "execution_count": 49,
   "metadata": {},
   "outputs": [
    {
     "name": "stdout",
     "output_type": "stream",
     "text": [
      "9592 0.11957716941833496\n"
     ]
    }
   ],
   "source": [
    "start = time.time()\n",
    "A = set()\n",
    "B = set(range(3,N+1,2))\n",
    "\n",
    "k = int((N**0.5-1)/2)\n",
    "\n",
    "for i in range(1,k+1):\n",
    "    t = int((N-(2*i+1)**2)/(2*(2*i+1)))\n",
    "    for n in range(t+1):\n",
    "        A.add((2*i+1)*(2*i+1+2*n))\n",
    "\n",
    "a = B-A\n",
    "a.add(2)\n",
    "print(len(a), time.time() - start)"
   ]
  },
  {
   "cell_type": "code",
   "execution_count": 35,
   "metadata": {},
   "outputs": [
    {
     "data": {
      "text/plain": [
       "set()"
      ]
     },
     "execution_count": 35,
     "metadata": {},
     "output_type": "execute_result"
    }
   ],
   "source": []
  },
  {
   "cell_type": "code",
   "execution_count": null,
   "metadata": {},
   "outputs": [],
   "source": []
  }
 ],
 "metadata": {
  "kernelspec": {
   "display_name": "Python 3",
   "language": "python",
   "name": "python3"
  },
  "language_info": {
   "codemirror_mode": {
    "name": "ipython",
    "version": 3
   },
   "file_extension": ".py",
   "mimetype": "text/x-python",
   "name": "python",
   "nbconvert_exporter": "python",
   "pygments_lexer": "ipython3",
   "version": "3.7.4"
  }
 },
 "nbformat": 4,
 "nbformat_minor": 2
}
