{
 "cells": [
  {
   "cell_type": "code",
   "execution_count": 1,
   "metadata": {},
   "outputs": [],
   "source": [
    "import matplotlib.pyplot as plt\n",
    "import pandas as pd\n",
    "import time\n",
    "import seaborn as sns"
   ]
  },
  {
   "cell_type": "code",
   "execution_count": 2,
   "metadata": {},
   "outputs": [],
   "source": [
    "%matplotlib inline"
   ]
  },
  {
   "cell_type": "code",
   "execution_count": 3,
   "metadata": {},
   "outputs": [],
   "source": [
    "N = 10**5"
   ]
  },
  {
   "cell_type": "code",
   "execution_count": 4,
   "metadata": {},
   "outputs": [],
   "source": [
    "df = pd.DataFrame(columns = [\"N\",\"methodA\",\"methodB\"])"
   ]
  },
  {
   "cell_type": "markdown",
   "metadata": {},
   "source": [
    "### method A (Eratosthenes)"
   ]
  },
  {
   "cell_type": "code",
   "execution_count": 6,
   "metadata": {},
   "outputs": [
    {
     "name": "stdout",
     "output_type": "stream",
     "text": [
      "9592 0.13048148155212402\n"
     ]
    }
   ],
   "source": [
    "start = time.time()\n",
    "a = set(range(2,N+1))\n",
    "n = N**0.5\n",
    "c = 0\n",
    "while True:\n",
    "    i = list(a)[c]\n",
    "    if i > n:\n",
    "        break\n",
    "    if i in a:\n",
    "        a -= set(range(i*2,N+1,i))\n",
    "        c += 1\n",
    "\n",
    "print(len(a), time.time() - start)"
   ]
  },
  {
   "cell_type": "markdown",
   "metadata": {},
   "source": [
    "### method B (paper's new method)"
   ]
  },
  {
   "cell_type": "code",
   "execution_count": 7,
   "metadata": {},
   "outputs": [
    {
     "name": "stdout",
     "output_type": "stream",
     "text": [
      "9592 0.12700414657592773\n"
     ]
    }
   ],
   "source": [
    "start = time.time()\n",
    "A = set()\n",
    "B = set(range(3,N+1,2))\n",
    "\n",
    "k = int((N**0.5-1)/2)\n",
    "\n",
    "for i in range(1,k+1):\n",
    "    t = int((N-(2*i+1)**2)/(2*(2*i+1)))\n",
    "    for n in range(t+1):\n",
    "        A.add((2*i+1)*(2*i+1+2*n))\n",
    "\n",
    "a = B-A\n",
    "a.add(2)\n",
    "print(len(a), time.time() - start)"
   ]
  },
  {
   "cell_type": "code",
   "execution_count": 8,
   "metadata": {},
   "outputs": [
    {
     "data": {
      "text/plain": [
       "[1000000,\n",
       " 1500000,\n",
       " 2000000,\n",
       " 2500000,\n",
       " 3000000,\n",
       " 3500000,\n",
       " 4000000,\n",
       " 4500000,\n",
       " 5000000,\n",
       " 5500000,\n",
       " 6000000,\n",
       " 6500000,\n",
       " 7000000,\n",
       " 7500000,\n",
       " 8000000,\n",
       " 8500000,\n",
       " 9000000,\n",
       " 9500000,\n",
       " 10000000]"
      ]
     },
     "execution_count": 8,
     "metadata": {},
     "output_type": "execute_result"
    }
   ],
   "source": [
    "lst = [500000 * i for i in range(2,21)]\n",
    "lst"
   ]
  },
  {
   "cell_type": "code",
   "execution_count": 4,
   "metadata": {},
   "outputs": [
    {
     "name": "stdout",
     "output_type": "stream",
     "text": [
      "\n"
     ]
    }
   ],
   "source": [
    "\"\"\"\n",
    "for N in lst:\n",
    "    start = time.time()\n",
    "    a = set(range(2,N+1))\n",
    "    n = N**0.5\n",
    "    c = 0\n",
    "    while True:\n",
    "        i = list(a)[c]\n",
    "        if i > n:\n",
    "            break\n",
    "        if i in a:\n",
    "            a -= set(range(i*2,N+1,i))\n",
    "            c += 1\n",
    "\n",
    "    t1 = time.time() - start\n",
    "    \n",
    "    start = time.time()\n",
    "    A = set()\n",
    "    B = set(range(3,N+1,2))\n",
    "\n",
    "    k = int((N**0.5-1)/2)\n",
    "\n",
    "    for i in range(1,k+1):\n",
    "        t = int((N-(2*i+1)**2)/(2*(2*i+1)))\n",
    "        for n in range(t+1):\n",
    "            A.add((2*i+1)*(2*i+1+2*n))\n",
    "\n",
    "    a = B-A\n",
    "    a.add(2)\n",
    "    t2 = time.time() - start\n",
    "    print(N,t1,t2)\n",
    "    df.loc[len(df)] = {\"N\" : N, \"methodA\" : t1, \"methodB\" : t2}\n",
    "\"\"\""
   ]
  },
  {
   "cell_type": "code",
   "execution_count": 33,
   "metadata": {},
   "outputs": [],
   "source": [
    "df = pd.DataFrame(columns = [\"N\",\"methodA\",\"methodB\"])"
   ]
  },
  {
   "cell_type": "code",
   "execution_count": 64,
   "metadata": {},
   "outputs": [],
   "source": [
    "x = []\n",
    "y1 = []\n",
    "y2 = []"
   ]
  },
  {
   "cell_type": "code",
   "execution_count": 65,
   "metadata": {},
   "outputs": [
    {
     "name": "stdout",
     "output_type": "stream",
     "text": [
      "1000000 1.7080001831054688 0.9499707221984863\n",
      "1500000 2.4274137020111084 1.375295639038086\n",
      "2000000 3.1648786067962646 1.7049450874328613\n",
      "2500000 3.9611294269561768 2.356786012649536\n",
      "3000000 5.0182783603668213 3.1785850524902344\n",
      "3500000 7.125149488449097 3.765899419784546\n",
      "4000000 7.462851285934448 4.018891096115112\n",
      "4500000 10.676944494247437 4.272104740142822\n",
      "5000000 11.333355903625488 4.6751933097839355\n",
      "5500000 12.9663004875183105 5.86046028137207\n",
      "6000000 14.0929553508758545 6.0851733684539795\n",
      "6500000 16.20210289955139 7.145481109619141\n",
      "7000000 17.313822746276855 7.227780103683472\n",
      "7500000 20.380670309066772 8.263086318969727\n",
      "8000000 22.343668222427368 8.72058367729187\n",
      "8500000 26.10925006866455 9.27419376373291\n",
      "9000000 31.568542003631592 10.44149374961853\n",
      "9500000 34.504643440246582 10.047656536102295\n",
      "10000000 40.13622260093689 11.362022876739502\n"
     ]
    }
   ],
   "source": [
    "for i in (\"\"\"1000000 1.7080001831054688 0.9499707221984863\n",
    "1500000 2.4274137020111084 1.375295639038086\n",
    "2000000 3.1648786067962646 1.7049450874328613\n",
    "2500000 3.9611294269561768 2.356786012649536\n",
    "3000000 5.0182783603668213 3.1785850524902344\n",
    "3500000 7.125149488449097 3.765899419784546\n",
    "4000000 7.462851285934448 4.018891096115112\n",
    "4500000 10.676944494247437 4.272104740142822\n",
    "5000000 11.333355903625488 4.6751933097839355\n",
    "5500000 12.9663004875183105 5.86046028137207\n",
    "6000000 14.0929553508758545 6.0851733684539795\n",
    "6500000 16.20210289955139 7.145481109619141\n",
    "7000000 17.313822746276855 7.227780103683472\n",
    "7500000 20.380670309066772 8.263086318969727\n",
    "8000000 22.343668222427368 8.72058367729187\n",
    "8500000 26.10925006866455 9.27419376373291\n",
    "9000000 31.568542003631592 10.44149374961853\n",
    "9500000 34.504643440246582 10.047656536102295\n",
    "10000000 40.13622260093689 11.362022876739502\"\"\".split(\"\\n\")):\n",
    "    print(i)\n",
    "    N, t1, t2 = i.split()\n",
    "    #df.loc[len(df)] = {\"N\" : str(N), \"methodA\" : t1, \"methodB\" : t2}\n",
    "    x.append(int(N)//500000)\n",
    "    y1.append(float(t1))\n",
    "    y2.append(float(t2))"
   ]
  },
  {
   "cell_type": "code",
   "execution_count": 35,
   "metadata": {},
   "outputs": [
    {
     "data": {
      "text/html": [
       "<div>\n",
       "<style scoped>\n",
       "    .dataframe tbody tr th:only-of-type {\n",
       "        vertical-align: middle;\n",
       "    }\n",
       "\n",
       "    .dataframe tbody tr th {\n",
       "        vertical-align: top;\n",
       "    }\n",
       "\n",
       "    .dataframe thead th {\n",
       "        text-align: right;\n",
       "    }\n",
       "</style>\n",
       "<table border=\"1\" class=\"dataframe\">\n",
       "  <thead>\n",
       "    <tr style=\"text-align: right;\">\n",
       "      <th></th>\n",
       "      <th>N</th>\n",
       "      <th>methodA</th>\n",
       "      <th>methodB</th>\n",
       "    </tr>\n",
       "  </thead>\n",
       "  <tbody>\n",
       "    <tr>\n",
       "      <td>0</td>\n",
       "      <td>1000000</td>\n",
       "      <td>1.7080001831054688</td>\n",
       "      <td>0.9499707221984863</td>\n",
       "    </tr>\n",
       "    <tr>\n",
       "      <td>1</td>\n",
       "      <td>1500000</td>\n",
       "      <td>2.4274137020111084</td>\n",
       "      <td>1.375295639038086</td>\n",
       "    </tr>\n",
       "    <tr>\n",
       "      <td>2</td>\n",
       "      <td>2000000</td>\n",
       "      <td>3.1648786067962646</td>\n",
       "      <td>1.7049450874328613</td>\n",
       "    </tr>\n",
       "    <tr>\n",
       "      <td>3</td>\n",
       "      <td>2500000</td>\n",
       "      <td>3.9611294269561768</td>\n",
       "      <td>2.356786012649536</td>\n",
       "    </tr>\n",
       "    <tr>\n",
       "      <td>4</td>\n",
       "      <td>3000000</td>\n",
       "      <td>5.0182783603668213</td>\n",
       "      <td>3.1785850524902344</td>\n",
       "    </tr>\n",
       "    <tr>\n",
       "      <td>5</td>\n",
       "      <td>3500000</td>\n",
       "      <td>7.125149488449097</td>\n",
       "      <td>3.765899419784546</td>\n",
       "    </tr>\n",
       "    <tr>\n",
       "      <td>6</td>\n",
       "      <td>4000000</td>\n",
       "      <td>7.462851285934448</td>\n",
       "      <td>4.018891096115112</td>\n",
       "    </tr>\n",
       "    <tr>\n",
       "      <td>7</td>\n",
       "      <td>4500000</td>\n",
       "      <td>10.676944494247437</td>\n",
       "      <td>4.272104740142822</td>\n",
       "    </tr>\n",
       "    <tr>\n",
       "      <td>8</td>\n",
       "      <td>5000000</td>\n",
       "      <td>11.333355903625488</td>\n",
       "      <td>4.6751933097839355</td>\n",
       "    </tr>\n",
       "    <tr>\n",
       "      <td>9</td>\n",
       "      <td>5500000</td>\n",
       "      <td>12.9663004875183105</td>\n",
       "      <td>5.86046028137207</td>\n",
       "    </tr>\n",
       "    <tr>\n",
       "      <td>10</td>\n",
       "      <td>6000000</td>\n",
       "      <td>14.0929553508758545</td>\n",
       "      <td>6.0851733684539795</td>\n",
       "    </tr>\n",
       "    <tr>\n",
       "      <td>11</td>\n",
       "      <td>6500000</td>\n",
       "      <td>16.20210289955139</td>\n",
       "      <td>7.145481109619141</td>\n",
       "    </tr>\n",
       "    <tr>\n",
       "      <td>12</td>\n",
       "      <td>7000000</td>\n",
       "      <td>17.313822746276855</td>\n",
       "      <td>7.227780103683472</td>\n",
       "    </tr>\n",
       "    <tr>\n",
       "      <td>13</td>\n",
       "      <td>7500000</td>\n",
       "      <td>20.380670309066772</td>\n",
       "      <td>8.263086318969727</td>\n",
       "    </tr>\n",
       "    <tr>\n",
       "      <td>14</td>\n",
       "      <td>8000000</td>\n",
       "      <td>22.343668222427368</td>\n",
       "      <td>8.72058367729187</td>\n",
       "    </tr>\n",
       "    <tr>\n",
       "      <td>15</td>\n",
       "      <td>8500000</td>\n",
       "      <td>26.10925006866455</td>\n",
       "      <td>9.27419376373291</td>\n",
       "    </tr>\n",
       "    <tr>\n",
       "      <td>16</td>\n",
       "      <td>9000000</td>\n",
       "      <td>31.568542003631592</td>\n",
       "      <td>10.44149374961853</td>\n",
       "    </tr>\n",
       "    <tr>\n",
       "      <td>17</td>\n",
       "      <td>9500000</td>\n",
       "      <td>34.504643440246582</td>\n",
       "      <td>10.047656536102295</td>\n",
       "    </tr>\n",
       "    <tr>\n",
       "      <td>18</td>\n",
       "      <td>10000000</td>\n",
       "      <td>40.13622260093689</td>\n",
       "      <td>11.362022876739502</td>\n",
       "    </tr>\n",
       "  </tbody>\n",
       "</table>\n",
       "</div>"
      ],
      "text/plain": [
       "           N              methodA             methodB\n",
       "0    1000000   1.7080001831054688  0.9499707221984863\n",
       "1    1500000   2.4274137020111084   1.375295639038086\n",
       "2    2000000   3.1648786067962646  1.7049450874328613\n",
       "3    2500000   3.9611294269561768   2.356786012649536\n",
       "4    3000000   5.0182783603668213  3.1785850524902344\n",
       "5    3500000    7.125149488449097   3.765899419784546\n",
       "6    4000000    7.462851285934448   4.018891096115112\n",
       "7    4500000   10.676944494247437   4.272104740142822\n",
       "8    5000000   11.333355903625488  4.6751933097839355\n",
       "9    5500000  12.9663004875183105    5.86046028137207\n",
       "10   6000000  14.0929553508758545  6.0851733684539795\n",
       "11   6500000    16.20210289955139   7.145481109619141\n",
       "12   7000000   17.313822746276855   7.227780103683472\n",
       "13   7500000   20.380670309066772   8.263086318969727\n",
       "14   8000000   22.343668222427368    8.72058367729187\n",
       "15   8500000    26.10925006866455    9.27419376373291\n",
       "16   9000000   31.568542003631592   10.44149374961853\n",
       "17   9500000   34.504643440246582  10.047656536102295\n",
       "18  10000000    40.13622260093689  11.362022876739502"
      ]
     },
     "execution_count": 35,
     "metadata": {},
     "output_type": "execute_result"
    }
   ],
   "source": [
    "df"
   ]
  },
  {
   "cell_type": "code",
   "execution_count": 56,
   "metadata": {},
   "outputs": [
    {
     "data": {
      "text/plain": [
       "[]"
      ]
     },
     "execution_count": 56,
     "metadata": {},
     "output_type": "execute_result"
    }
   ],
   "source": [
    "x"
   ]
  },
  {
   "cell_type": "code",
   "execution_count": 67,
   "metadata": {
    "scrolled": true
   },
   "outputs": [
    {
     "data": {
      "image/png": "[encoded data removed]",
      "text/plain": [
       "<Figure size 432x288 with 1 Axes>"
      ]
     },
     "metadata": {
      "needs_background": "light"
     },
     "output_type": "display_data"
    }
   ],
   "source": [
    "plt.ylim(0,45)\n",
    "plt.plot(x,y1)\n",
    "plt.plot(x,y2)\n",
    "plt.legend([\"Eratosthenes\",\"New method\"])\n",
    "plt.show()"
   ]
  },
  {
   "cell_type": "code",
   "execution_count": null,
   "metadata": {},
   "outputs": [],
   "source": []
  }
 ],
 "metadata": {
  "kernelspec": {
   "display_name": "Python 3",
   "language": "python",
   "name": "python3"
  },
  "language_info": {
   "codemirror_mode": {
    "name": "ipython",
    "version": 3
   },
   "file_extension": ".py",
   "mimetype": "text/x-python",
   "name": "python",
   "nbconvert_exporter": "python",
   "pygments_lexer": "ipython3",
   "version": "3.7.4"
  }
 },
 "nbformat": 4,
 "nbformat_minor": 2
}
